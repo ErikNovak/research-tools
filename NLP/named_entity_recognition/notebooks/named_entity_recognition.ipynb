{
 "cells": [
  {
   "cell_type": "markdown",
   "metadata": {},
   "source": [
    "### Prepare the notebook to have access to all files"
   ]
  },
  {
   "cell_type": "code",
   "execution_count": 1,
   "metadata": {
    "execution": {
     "iopub.execute_input": "2020-06-29T13:54:38.545437Z",
     "iopub.status.busy": "2020-06-29T13:54:38.545012Z",
     "iopub.status.idle": "2020-06-29T13:54:38.552415Z",
     "shell.execute_reply": "2020-06-29T13:54:38.551567Z",
     "shell.execute_reply.started": "2020-06-29T13:54:38.545379Z"
    }
   },
   "outputs": [],
   "source": [
    "import os\n",
    "import sys\n",
    "# get the project root\n",
    "__filename__ = os.path.abspath(\".\")\n",
    "__dirname__ = os.path.dirname(__filename__)\n",
    "if __dirname__ not in sys.path:\n",
    "    sys.path.append(__dirname__)"
   ]
  },
  {
   "cell_type": "markdown",
   "metadata": {},
   "source": [
    "### Process library"
   ]
  },
  {
   "cell_type": "code",
   "execution_count": 2,
   "metadata": {
    "execution": {
     "iopub.execute_input": "2020-06-29T13:54:39.542373Z",
     "iopub.status.busy": "2020-06-29T13:54:39.541918Z",
     "iopub.status.idle": "2020-06-29T13:54:39.584750Z",
     "shell.execute_reply": "2020-06-29T13:54:39.584141Z",
     "shell.execute_reply.started": "2020-06-29T13:54:39.542325Z"
    }
   },
   "outputs": [],
   "source": [
    "from tqdm import notebook\n",
    "tqdmn = notebook.tqdm"
   ]
  },
  {
   "cell_type": "markdown",
   "metadata": {},
   "source": [
    "# Named Entity Recognition\n",
    "This notebook gives a demonstation of how to train a model for named entity recognition. "
   ]
  },
  {
   "cell_type": "markdown",
   "metadata": {},
   "source": [
    "### Loading the Dataset"
   ]
  },
  {
   "cell_type": "code",
   "execution_count": 3,
   "metadata": {
    "execution": {
     "iopub.execute_input": "2020-06-29T13:54:40.332637Z",
     "iopub.status.busy": "2020-06-29T13:54:40.332271Z",
     "iopub.status.idle": "2020-06-29T13:54:40.464710Z",
     "shell.execute_reply": "2020-06-29T13:54:40.463809Z",
     "shell.execute_reply.started": "2020-06-29T13:54:40.332595Z"
    }
   },
   "outputs": [],
   "source": [
    "import numpy as np"
   ]
  },
  {
   "cell_type": "code",
   "execution_count": 4,
   "metadata": {
    "execution": {
     "iopub.execute_input": "2020-06-29T13:54:40.677459Z",
     "iopub.status.busy": "2020-06-29T13:54:40.677103Z",
     "iopub.status.idle": "2020-06-29T13:54:40.682366Z",
     "shell.execute_reply": "2020-06-29T13:54:40.681574Z",
     "shell.execute_reply.started": "2020-06-29T13:54:40.677417Z"
    }
   },
   "outputs": [],
   "source": [
    "def open_training_set(filepath):\n",
    "    with open(filepath, 'r', encoding='utf-8') as f:\n",
    "        return f.readlines()"
   ]
  },
  {
   "cell_type": "code",
   "execution_count": 5,
   "metadata": {
    "execution": {
     "iopub.execute_input": "2020-06-29T13:54:40.963043Z",
     "iopub.status.busy": "2020-06-29T13:54:40.962688Z",
     "iopub.status.idle": "2020-06-29T13:54:40.970058Z",
     "shell.execute_reply": "2020-06-29T13:54:40.969267Z",
     "shell.execute_reply.started": "2020-06-29T13:54:40.963002Z"
    }
   },
   "outputs": [],
   "source": [
    "def split_dataset(array):\n",
    "    # find the break lines within the training dataset\n",
    "    breaklines = np.where(np.array(array) == '\\n')[0]\n",
    "    dataset = []\n",
    "    # group the sentences based on the break lines\n",
    "    for i in range(breaklines.shape[0] - 1):\n",
    "        start_id = breaklines[i] + 1\n",
    "        end_id = breaklines[i + 1]\n",
    "        dataset.append(array[start_id:end_id])\n",
    "    # return the groups\n",
    "    return dataset"
   ]
  },
  {
   "cell_type": "code",
   "execution_count": 6,
   "metadata": {
    "execution": {
     "iopub.execute_input": "2020-06-29T13:54:41.258272Z",
     "iopub.status.busy": "2020-06-29T13:54:41.257862Z",
     "iopub.status.idle": "2020-06-29T13:54:41.264258Z",
     "shell.execute_reply": "2020-06-29T13:54:41.263397Z",
     "shell.execute_reply.started": "2020-06-29T13:54:41.258225Z"
    }
   },
   "outputs": [],
   "source": [
    "def parse(string):\n",
    "    [word, pos, chunk, ner] = string.strip().split(' ')\n",
    "    return { 'word': word, 'pos': pos, 'chunk': chunk, 'ner': ner }"
   ]
  },
  {
   "cell_type": "code",
   "execution_count": 7,
   "metadata": {
    "execution": {
     "iopub.execute_input": "2020-06-29T13:54:41.503066Z",
     "iopub.status.busy": "2020-06-29T13:54:41.502675Z",
     "iopub.status.idle": "2020-06-29T13:54:41.507947Z",
     "shell.execute_reply": "2020-06-29T13:54:41.507069Z",
     "shell.execute_reply.started": "2020-06-29T13:54:41.503025Z"
    }
   },
   "outputs": [],
   "source": [
    "def format_dataset(array):\n",
    "    return [[parse(row) for row in group] for group in array]"
   ]
  },
  {
   "cell_type": "code",
   "execution_count": 8,
   "metadata": {
    "execution": {
     "iopub.execute_input": "2020-06-29T13:54:41.711754Z",
     "iopub.status.busy": "2020-06-29T13:54:41.711348Z",
     "iopub.status.idle": "2020-06-29T13:54:41.717187Z",
     "shell.execute_reply": "2020-06-29T13:54:41.716288Z",
     "shell.execute_reply.started": "2020-06-29T13:54:41.711708Z"
    }
   },
   "outputs": [],
   "source": [
    "def prepare_dataset(filepath):\n",
    "    dataset = open_training_set(filepath)\n",
    "    dataset = split_dataset(dataset)\n",
    "    dataset = format_dataset(dataset)\n",
    "    return dataset"
   ]
  },
  {
   "cell_type": "code",
   "execution_count": 11,
   "metadata": {
    "execution": {
     "iopub.execute_input": "2020-06-29T13:54:53.522536Z",
     "iopub.status.busy": "2020-06-29T13:54:53.522209Z",
     "iopub.status.idle": "2020-06-29T13:54:54.097614Z",
     "shell.execute_reply": "2020-06-29T13:54:54.096445Z",
     "shell.execute_reply.started": "2020-06-29T13:54:53.522500Z"
    }
   },
   "outputs": [],
   "source": [
    "train_path = \"../data/ner/train.txt\"\n",
    "valid_path = \"../data/ner/valid.txt\"\n",
    "test_path = \"../data/ner/test.txt\"\n",
    "\n",
    "train = prepare_dataset(train_path)\n",
    "valid = prepare_dataset(valid_path)\n",
    "test = prepare_dataset(test_path)"
   ]
  },
  {
   "cell_type": "code",
   "execution_count": 12,
   "metadata": {
    "execution": {
     "iopub.execute_input": "2020-06-29T13:54:54.935914Z",
     "iopub.status.busy": "2020-06-29T13:54:54.935488Z",
     "iopub.status.idle": "2020-06-29T13:54:54.953123Z",
     "shell.execute_reply": "2020-06-29T13:54:54.952595Z",
     "shell.execute_reply.started": "2020-06-29T13:54:54.935866Z"
    }
   },
   "outputs": [
    {
     "data": {
      "text/plain": [
       "[{'word': 'EU', 'pos': 'NNP', 'chunk': 'B-NP', 'ner': 'B-ORG'},\n",
       " {'word': 'rejects', 'pos': 'VBZ', 'chunk': 'B-VP', 'ner': 'O'},\n",
       " {'word': 'German', 'pos': 'JJ', 'chunk': 'B-NP', 'ner': 'B-MISC'},\n",
       " {'word': 'call', 'pos': 'NN', 'chunk': 'I-NP', 'ner': 'O'},\n",
       " {'word': 'to', 'pos': 'TO', 'chunk': 'B-VP', 'ner': 'O'},\n",
       " {'word': 'boycott', 'pos': 'VB', 'chunk': 'I-VP', 'ner': 'O'},\n",
       " {'word': 'British', 'pos': 'JJ', 'chunk': 'B-NP', 'ner': 'B-MISC'},\n",
       " {'word': 'lamb', 'pos': 'NN', 'chunk': 'I-NP', 'ner': 'O'},\n",
       " {'word': '.', 'pos': '.', 'chunk': 'O', 'ner': 'O'}]"
      ]
     },
     "execution_count": 12,
     "metadata": {},
     "output_type": "execute_result"
    }
   ],
   "source": [
    "# checking the format used to generate the input tensors\n",
    "# NOTE: this format is only used for training, afterwards we will see \n",
    "# how to use the model on a whole sentence\n",
    "train[0]"
   ]
  },
  {
   "cell_type": "markdown",
   "metadata": {},
   "source": [
    "## Preparing the Model Variables"
   ]
  },
  {
   "cell_type": "code",
   "execution_count": 127,
   "metadata": {
    "execution": {
     "iopub.execute_input": "2020-06-30T10:16:11.615041Z",
     "iopub.status.busy": "2020-06-30T10:16:11.614647Z",
     "iopub.status.idle": "2020-06-30T10:16:11.620838Z",
     "shell.execute_reply": "2020-06-30T10:16:11.619875Z",
     "shell.execute_reply.started": "2020-06-30T10:16:11.614998Z"
    }
   },
   "outputs": [],
   "source": [
    "# entity-index mapping\n",
    "entities = {\n",
    "    \"O\": 0,\n",
    "    \"B-ORG\": 1,\n",
    "    \"B-MISC\": 2,\n",
    "    \"B-LOC\": 3,\n",
    "    \"B-PER\": 4,\n",
    "    \"I-ORG\": 5,\n",
    "    \"I-MISC\": 6,\n",
    "    \"I-LOC\": 7,\n",
    "    \"I-PER\": 8\n",
    "}"
   ]
  },
  {
   "cell_type": "code",
   "execution_count": 14,
   "metadata": {
    "execution": {
     "iopub.execute_input": "2020-06-29T13:54:58.528587Z",
     "iopub.status.busy": "2020-06-29T13:54:58.528165Z",
     "iopub.status.idle": "2020-06-29T13:54:58.933661Z",
     "shell.execute_reply": "2020-06-29T13:54:58.932631Z",
     "shell.execute_reply.started": "2020-06-29T13:54:58.528539Z"
    }
   },
   "outputs": [],
   "source": [
    "import torch\n",
    "import torch.nn as nn\n",
    "import torch.optim as optim\n",
    "import torch.nn.functional as F\n",
    "\n",
    "device = torch.device(\"cuda\" if torch.cuda.is_available() else \"cpu\")"
   ]
  },
  {
   "cell_type": "markdown",
   "metadata": {},
   "source": [
    "### Training Hyperparameters"
   ]
  },
  {
   "cell_type": "code",
   "execution_count": 15,
   "metadata": {
    "execution": {
     "iopub.execute_input": "2020-06-29T13:55:00.707368Z",
     "iopub.status.busy": "2020-06-29T13:55:00.706894Z",
     "iopub.status.idle": "2020-06-29T13:55:00.712381Z",
     "shell.execute_reply": "2020-06-29T13:55:00.711412Z",
     "shell.execute_reply.started": "2020-06-29T13:55:00.707311Z"
    }
   },
   "outputs": [],
   "source": [
    "# assign the training parameters\n",
    "\n",
    "# n_epochs tells how many times we go through the training dataset\n",
    "n_epochs = 5\n",
    "# batch_size tells how many examples we view before we do back-propagation\n",
    "batch_size = 64"
   ]
  },
  {
   "cell_type": "markdown",
   "metadata": {},
   "source": [
    "## Initializing the NER Model"
   ]
  },
  {
   "cell_type": "code",
   "execution_count": 16,
   "metadata": {
    "execution": {
     "iopub.execute_input": "2020-06-29T13:55:02.085737Z",
     "iopub.status.busy": "2020-06-29T13:55:02.085245Z",
     "iopub.status.idle": "2020-06-29T13:55:02.566421Z",
     "shell.execute_reply": "2020-06-29T13:55:02.565477Z",
     "shell.execute_reply.started": "2020-06-29T13:55:02.085687Z"
    }
   },
   "outputs": [],
   "source": [
    "from library.xlm_roberta_ner import XLMRobertaNER"
   ]
  },
  {
   "cell_type": "code",
   "execution_count": 17,
   "metadata": {
    "execution": {
     "iopub.execute_input": "2020-06-29T13:55:05.265468Z",
     "iopub.status.busy": "2020-06-29T13:55:05.265022Z",
     "iopub.status.idle": "2020-06-29T13:55:26.434959Z",
     "shell.execute_reply": "2020-06-29T13:55:26.433955Z",
     "shell.execute_reply.started": "2020-06-29T13:55:05.265422Z"
    }
   },
   "outputs": [],
   "source": [
    "# assign the initialization configurations\n",
    "config = { \"entities\": entities }\n",
    "# NER model \n",
    "# NOTE: this line will initialize the NER model, move it to GPU (if \"cuda\" is available), \n",
    "# and set it into training mode (this is important because XLM-Roberta has a dropout component)\n",
    "ner = XLMRobertaNER(config).to(device).train()\n",
    "# assign the training parameters\n",
    "optimizer = optim.Adam(ner.parameters(), lr=1e-5)"
   ]
  },
  {
   "cell_type": "code",
   "execution_count": 18,
   "metadata": {
    "execution": {
     "iopub.execute_input": "2020-06-29T14:01:22.389375Z",
     "iopub.status.busy": "2020-06-29T14:01:22.388920Z",
     "iopub.status.idle": "2020-06-29T14:01:22.398677Z",
     "shell.execute_reply": "2020-06-29T14:01:22.398134Z",
     "shell.execute_reply.started": "2020-06-29T14:01:22.389320Z"
    }
   },
   "outputs": [],
   "source": [
    "def evaluate_model(ner, dataset):\n",
    "    \"\"\"Gets the average loss score of the model on the given dataset\n",
    "\n",
    "    Args:\n",
    "        ner (torch.nn.Module): The NER model that is being evaluated.\n",
    "        dataset (List[Dict[str, str]]): The dataset on which the model is being evaluated.\n",
    "\n",
    "    Returns:\n",
    "        number: The average loss value over the whole dataset.\n",
    "\n",
    "    \"\"\"\n",
    "    total_loss = 0.0\n",
    "    for example in dataset:\n",
    "        tokens_tensor, attention_mask_tensor, labels_tensor = ner.get_train_tokens_attention_labels_tensor(example)\n",
    "        # get the final output\n",
    "        tokens_tensor = tokens_tensor.to(device)\n",
    "        attention_mask_tensor = attention_mask_tensor.to(device)\n",
    "        labels_tensor = labels_tensor.to(device)\n",
    "        # calculate the loss and scores\n",
    "        with torch.no_grad():\n",
    "            (loss, scores, entities, tokens, labels) = ner(tokens_tensor, attention_mask_tensor=attention_mask_tensor, labels_tensor=labels_tensor)\n",
    "        \n",
    "        # clean the tensors that are not used anymore\n",
    "        del tokens_tensor\n",
    "        del attention_mask_tensor\n",
    "        del labels_tensor\n",
    "\n",
    "        # get the loss value \n",
    "        total_loss += loss.item()\n",
    "        \n",
    "    # return the evaluation loss\n",
    "    return total_loss / len(dataset)"
   ]
  },
  {
   "cell_type": "code",
   "execution_count": 19,
   "metadata": {
    "execution": {
     "iopub.execute_input": "2020-06-29T14:01:23.277286Z",
     "iopub.status.busy": "2020-06-29T14:01:23.276862Z",
     "iopub.status.idle": "2020-06-29T14:01:23.294037Z",
     "shell.execute_reply": "2020-06-29T14:01:23.293209Z",
     "shell.execute_reply.started": "2020-06-29T14:01:23.277238Z"
    }
   },
   "outputs": [],
   "source": [
    "def train_model(ner, device, optimizer, n_epochs, batch_size, loss_values=None, eval_values=None):\n",
    "    \"\"\"Trains the model with the given parameters\n",
    "\n",
    "    Args:\n",
    "        ner (torch.nn.Module): The NER model that is going to be trained.\n",
    "        device (torch.device): The pytorch device object. Where the training is going to be performed.\n",
    "        optimizer (torch.optim): The optimizer used to train the model.\n",
    "        n_epochs (int): The number of epochs we train the model.\n",
    "        batch_size (int): The number of examples we first view before we update the model.\n",
    "        loss_values (List[float]): The loss values placeholder. Used to visualize the loss values (Default: None).\n",
    "        eval_values (List[float]): The evaluation values placeholder. Used to visualize the evaluation values (Default: None).\n",
    "    \"\"\"\n",
    "\n",
    "    # iterate through the training dataset 'n_epochs'-times\n",
    "    for i in tqdmn(range(n_epochs), desc=\"Epochs\"):\n",
    "        # initialize the metrics\n",
    "        count_iter = 0\n",
    "        total_loss = 0.0\n",
    "        # initialize the models gradients\n",
    "        optimizer.zero_grad()\n",
    "\n",
    "        # prepare the data\n",
    "        for example in tqdmn(train, desc=\"Examples\"):\n",
    "            # generate the input tensors from the example\n",
    "            tokens_tensor, attention_mask_tensor, labels_tensor = ner.get_train_tokens_attention_labels_tensor(example)\n",
    "            \n",
    "            # move the tensors to the device\n",
    "            tokens_tensor = tokens_tensor.to(device)\n",
    "            attention_mask_tensor = attention_mask_tensor.to(device)\n",
    "            labels_tensor = labels_tensor.to(device)\n",
    "\n",
    "            # calculate the loss and scores\n",
    "            (loss, scores, entities, tokens, labels) = ner(tokens_tensor, attention_mask_tensor=attention_mask_tensor, labels_tensor=labels_tensor)\n",
    "            \n",
    "            # update the gradients\n",
    "            loss.backward()\n",
    "            \n",
    "            # clean the tensors that are not used anymore\n",
    "            del tokens_tensor\n",
    "            del attention_mask_tensor\n",
    "            del labels_tensor\n",
    "            \n",
    "            # get the loss value \n",
    "            total_loss += loss.item()\n",
    "            count_iter += 1\n",
    "            \n",
    "            # remove the loss value\n",
    "            del loss\n",
    "\n",
    "            if count_iter % batch_size == 0:\n",
    "                if loss_values != None:\n",
    "                    # store the average training loss value\n",
    "                    loss_values.append(total_loss / count_iter)\n",
    "\n",
    "                # update the NER model\n",
    "                optimizer.step()\n",
    "                total_loss = 0.0\n",
    "                count_iter = 0\n",
    "                optimizer.zero_grad()\n",
    "                \n",
    "                if eval_values != None:\n",
    "                    # get intermediate evaluation score on the validation dataset\n",
    "                    eval_values.append(evaluate_model(ner, valid))\n",
    "                \n",
    "        # update the model one last time\n",
    "        optimizer.step()\n",
    "        # remove the gradients\n",
    "        optimizer.zero_grad()\n",
    "\n",
    "        if loss_values != None:\n",
    "            # store the average training loss value\n",
    "            loss_values.append(total_loss / count_iter)\n",
    "\n",
    "        if eval_values != None:\n",
    "            # get intermediate evaluation score on the validation dataset\n",
    "            eval_values.append(evaluate_model(ner, valid))"
   ]
  },
  {
   "cell_type": "code",
   "execution_count": 20,
   "metadata": {
    "execution": {
     "iopub.execute_input": "2020-06-29T14:01:24.205150Z",
     "iopub.status.busy": "2020-06-29T14:01:24.204722Z",
     "iopub.status.idle": "2020-06-29T14:01:24.209979Z",
     "shell.execute_reply": "2020-06-29T14:01:24.208988Z",
     "shell.execute_reply.started": "2020-06-29T14:01:24.205101Z"
    }
   },
   "outputs": [],
   "source": [
    "# initialize the loss and evaluation value containers\n",
    "loss_values = []\n",
    "eval_values = []"
   ]
  },
  {
   "cell_type": "code",
   "execution_count": null,
   "metadata": {
    "execution": {
     "iopub.execute_input": "2020-06-29T14:01:25.545483Z",
     "iopub.status.busy": "2020-06-29T14:01:25.545087Z"
    }
   },
   "outputs": [
    {
     "data": {
      "application/vnd.jupyter.widget-view+json": {
       "model_id": "f9a8e61e20704d02b7d012b88c0f142b",
       "version_major": 2,
       "version_minor": 0
      },
      "text/plain": [
       "HBox(children=(FloatProgress(value=0.0, description='Epochs', max=5.0, style=ProgressStyle(description_width='…"
      ]
     },
     "metadata": {},
     "output_type": "display_data"
    },
    {
     "data": {
      "application/vnd.jupyter.widget-view+json": {
       "model_id": "147002985201415d8d636321e9e8451b",
       "version_major": 2,
       "version_minor": 0
      },
      "text/plain": [
       "HBox(children=(FloatProgress(value=0.0, description='Examples', max=14985.0, style=ProgressStyle(description_w…"
      ]
     },
     "metadata": {},
     "output_type": "display_data"
    }
   ],
   "source": [
    "# start the model training process\n",
    "# NOTE: if `eval_values` is present it will take much longer to train. If you are not interested in\n",
    "# intermediate evaluations, set the `eval_values` to `None`\n",
    "train_model(ner, device, optimizer, n_epochs, batch_size, loss_values=loss_values, eval_values=eval_values)"
   ]
  },
  {
   "cell_type": "markdown",
   "metadata": {},
   "source": [
    "### Visualize the loss values"
   ]
  },
  {
   "cell_type": "code",
   "execution_count": 56,
   "metadata": {
    "execution": {
     "iopub.execute_input": "2020-06-30T08:18:47.952242Z",
     "iopub.status.busy": "2020-06-30T08:18:47.951911Z",
     "iopub.status.idle": "2020-06-30T08:18:47.955987Z",
     "shell.execute_reply": "2020-06-30T08:18:47.955275Z",
     "shell.execute_reply.started": "2020-06-30T08:18:47.952208Z"
    }
   },
   "outputs": [],
   "source": [
    "# import the loss_plot function to visualize the distributions\n",
    "from library.visualizations import loss_plots, heatmap"
   ]
  },
  {
   "cell_type": "code",
   "execution_count": 28,
   "metadata": {
    "execution": {
     "iopub.execute_input": "2020-06-30T07:54:05.951578Z",
     "iopub.status.busy": "2020-06-30T07:54:05.951128Z",
     "iopub.status.idle": "2020-06-30T07:54:06.202454Z",
     "shell.execute_reply": "2020-06-30T07:54:06.201775Z",
     "shell.execute_reply.started": "2020-06-30T07:54:05.951529Z"
    }
   },
   "outputs": [
    {
     "data": {
      "image/png": "[encoded data removed]",
      "text/plain": [
       "<Figure size 1152x288 with 1 Axes>"
      ]
     },
     "metadata": {},
     "output_type": "display_data"
    }
   ],
   "source": [
    "loss_plots([loss_values, eval_values], figsize=(16, 4))"
   ]
  },
  {
   "cell_type": "code",
   "execution_count": 29,
   "metadata": {
    "execution": {
     "iopub.execute_input": "2020-06-30T07:55:27.891394Z",
     "iopub.status.busy": "2020-06-30T07:55:27.890957Z",
     "iopub.status.idle": "2020-06-30T07:55:27.897463Z",
     "shell.execute_reply": "2020-06-30T07:55:27.896518Z",
     "shell.execute_reply.started": "2020-06-30T07:55:27.891344Z"
    }
   },
   "outputs": [
    {
     "name": "stdout",
     "output_type": "stream",
     "text": [
      "Training Loss: 0.20407677278601535\n"
     ]
    }
   ],
   "source": [
    "# calculate the average loss value on the training dataset\n",
    "avg_loss_train = sum(loss_values) / len(loss_values)\n",
    "print(\"Training Loss:\", avg_loss_train)"
   ]
  },
  {
   "cell_type": "code",
   "execution_count": 30,
   "metadata": {
    "execution": {
     "iopub.execute_input": "2020-06-30T07:55:28.663224Z",
     "iopub.status.busy": "2020-06-30T07:55:28.662768Z",
     "iopub.status.idle": "2020-06-30T07:55:28.669477Z",
     "shell.execute_reply": "2020-06-30T07:55:28.668516Z",
     "shell.execute_reply.started": "2020-06-30T07:55:28.663174Z"
    }
   },
   "outputs": [
    {
     "name": "stdout",
     "output_type": "stream",
     "text": [
      "Evaluation Loss: 0.2047235881079285\n"
     ]
    }
   ],
   "source": [
    "# calculate the average loss value on the validation dataset\n",
    "avg_loss_valid = sum(eval_values) / len(eval_values)\n",
    "print(\"Evaluation Loss:\", avg_loss_valid)"
   ]
  },
  {
   "cell_type": "markdown",
   "metadata": {},
   "source": [
    "## Evaluating on the Test Dataset"
   ]
  },
  {
   "cell_type": "code",
   "execution_count": 50,
   "metadata": {
    "execution": {
     "iopub.execute_input": "2020-06-30T08:13:39.947939Z",
     "iopub.status.busy": "2020-06-30T08:13:39.947497Z",
     "iopub.status.idle": "2020-06-30T08:13:39.961424Z",
     "shell.execute_reply": "2020-06-30T08:13:39.960832Z",
     "shell.execute_reply.started": "2020-06-30T08:13:39.947891Z"
    }
   },
   "outputs": [],
   "source": [
    "def evaluate_model_test(ner):\n",
    "    \"\"\"Gets the average loss score of the model on the test dataset\n",
    "\n",
    "    Args:\n",
    "        ner (torch.nn.Module): The NER model that is being evaluated.\n",
    "\n",
    "    Returns:\n",
    "        loss (int): The average loss value over the whole dataset.\n",
    "        coocurrence (dict): The coocurrence of the true and predicted labels.\n",
    "    \"\"\"\n",
    "    \n",
    "    coocurrence = { key1: { key2: 0 for key2 in entities.keys() } for key1 in entities.keys() }\n",
    "    total_loss = 0\n",
    "    for example in tqdmn(test, desc=\"Test\"):\n",
    "        tokens_tensor, attention_mask_tensor, labels_tensor = ner.get_train_tokens_attention_labels_tensor(example)\n",
    "        # get the final output\n",
    "        tokens_tensor = tokens_tensor.to(device)\n",
    "        attention_mask_tensor = attention_mask_tensor.to(device)\n",
    "        labels_tensor = labels_tensor.to(device)\n",
    "        # calculate the loss and scores\n",
    "        with torch.no_grad():\n",
    "            (loss, scores, _, _, labels) = ner(tokens_tensor, attention_mask_tensor=attention_mask_tensor, labels_tensor=labels_tensor)\n",
    "        \n",
    "        # clean the tensors that are not used anymore\n",
    "        del tokens_tensor\n",
    "        del attention_mask_tensor\n",
    "        del labels_tensor\n",
    "\n",
    "        # get the loss value \n",
    "        total_loss += loss.item()\n",
    "        \n",
    "        true_labels = [word[\"ner\"] for word in example]\n",
    "        for true, pred in list(zip(true_labels, labels[1:-1])):\n",
    "            coocurrence[true][pred] += 1\n",
    "        \n",
    "    # return the evaluation loss and the coocurrence\n",
    "    return (total_loss / len(test), coocurrence)"
   ]
  },
  {
   "cell_type": "code",
   "execution_count": 51,
   "metadata": {
    "execution": {
     "iopub.execute_input": "2020-06-30T08:13:40.549204Z",
     "iopub.status.busy": "2020-06-30T08:13:40.548770Z",
     "iopub.status.idle": "2020-06-30T08:14:35.064883Z",
     "shell.execute_reply": "2020-06-30T08:14:35.063895Z",
     "shell.execute_reply.started": "2020-06-30T08:13:40.549156Z"
    }
   },
   "outputs": [
    {
     "data": {
      "application/vnd.jupyter.widget-view+json": {
       "model_id": "438ccb86132c49f8bc4fed1149bd8c4e",
       "version_major": 2,
       "version_minor": 0
      },
      "text/plain": [
       "HBox(children=(FloatProgress(value=0.0, description='Test', max=3682.0, style=ProgressStyle(description_width=…"
      ]
     },
     "metadata": {},
     "output_type": "display_data"
    },
    {
     "name": "stdout",
     "output_type": "stream",
     "text": [
      "\n"
     ]
    }
   ],
   "source": [
    "# get the average loss and coocurrence \n",
    "loss, coocurrence = evaluate_model_test(ner)"
   ]
  },
  {
   "cell_type": "markdown",
   "metadata": {},
   "source": [
    "## Statistics"
   ]
  },
  {
   "cell_type": "code",
   "execution_count": 67,
   "metadata": {
    "execution": {
     "iopub.execute_input": "2020-06-30T08:23:37.633321Z",
     "iopub.status.busy": "2020-06-30T08:23:37.632957Z",
     "iopub.status.idle": "2020-06-30T08:23:37.638880Z",
     "shell.execute_reply": "2020-06-30T08:23:37.638105Z",
     "shell.execute_reply.started": "2020-06-30T08:23:37.633280Z"
    }
   },
   "outputs": [],
   "source": [
    "# converting the coocurrence dictionary to a matrix\n",
    "count = np.array([\n",
    "    [val for key, val in coocurrence[key].items()] \n",
    "    for key in coocurrence.keys()\n",
    "])"
   ]
  },
  {
   "cell_type": "code",
   "execution_count": 193,
   "metadata": {
    "execution": {
     "iopub.execute_input": "2020-06-30T11:26:55.618329Z",
     "iopub.status.busy": "2020-06-30T11:26:55.617879Z",
     "iopub.status.idle": "2020-06-30T11:26:55.883696Z",
     "shell.execute_reply": "2020-06-30T11:26:55.883015Z",
     "shell.execute_reply.started": "2020-06-30T11:26:55.618280Z"
    }
   },
   "outputs": [
    {
     "data": {
      "image/png": "[encoded data removed]",
      "text/plain": [
       "<Figure size 720x720 with 2 Axes>"
      ]
     },
     "metadata": {},
     "output_type": "display_data"
    }
   ],
   "source": [
    "# ignore other as it is the dominant tag\n",
    "start_id = 1\n",
    "# show the heatmap of the coocurrence matrix\n",
    "heatmap(count[start_id:,start_id:], x_tick_labels=list(entities.keys())[start_id:], y_tick_labels=list(entities.keys())[start_id:])"
   ]
  },
  {
   "cell_type": "code",
   "execution_count": 194,
   "metadata": {
    "execution": {
     "iopub.execute_input": "2020-06-30T11:27:19.598849Z",
     "iopub.status.busy": "2020-06-30T11:27:19.598408Z",
     "iopub.status.idle": "2020-06-30T11:27:19.619364Z",
     "shell.execute_reply": "2020-06-30T11:27:19.618760Z",
     "shell.execute_reply.started": "2020-06-30T11:27:19.598800Z"
    }
   },
   "outputs": [],
   "source": [
    "# merge the B- and I- tags of the same group\n",
    "labels = [\"OTHER\", \"ORGANIZATION\", \"MISCELLANEOUS\", \"LOCATION\", \"PERSON\"]\n",
    "merged_count = np.array([\n",
    "    [\n",
    "        count[0][0], \n",
    "        count[0][1] + count[0][5], \n",
    "        count[0][2] + count[0][6], \n",
    "        count[0][3] + count[0][7], \n",
    "        count[0][4] + count[0][8]\n",
    "    ],\n",
    "    [\n",
    "        count[1][0]               + count[5][0], \n",
    "        count[1][1] + count[1][5] + count[5][1] + count[5][5], \n",
    "        count[1][2] + count[1][6] + count[5][2] + count[5][6], \n",
    "        count[1][3] + count[1][7] + count[5][3] + count[5][7], \n",
    "        count[1][4] + count[1][8] + count[5][4] + count[5][8]\n",
    "    ],\n",
    "    [\n",
    "        count[2][0]               + count[6][0], \n",
    "        count[2][1] + count[2][5] + count[6][1] + count[6][5], \n",
    "        count[2][2] + count[2][6] + count[6][2] + count[6][6], \n",
    "        count[2][3] + count[2][7] + count[6][3] + count[6][7], \n",
    "        count[2][4] + count[2][8] + count[6][4] + count[6][8]\n",
    "    ],\n",
    "    [\n",
    "        count[3][0]               + count[7][0], \n",
    "        count[3][1] + count[3][5] + count[7][1] + count[7][5], \n",
    "        count[3][2] + count[3][6] + count[7][2] + count[7][6], \n",
    "        count[3][3] + count[3][7] + count[7][3] + count[7][7], \n",
    "        count[3][4] + count[3][8] + count[7][4] + count[7][8]\n",
    "    ],\n",
    "    [\n",
    "        count[4][0]               + count[8][0], \n",
    "        count[4][1] + count[4][5] + count[8][1] + count[8][5], \n",
    "        count[4][2] + count[4][6] + count[8][2] + count[8][6], \n",
    "        count[4][3] + count[4][7] + count[8][3] + count[8][7], \n",
    "        count[4][4] + count[4][8] + count[8][4] + count[8][8]\n",
    "    ]\n",
    "    \n",
    "])"
   ]
  },
  {
   "cell_type": "code",
   "execution_count": 200,
   "metadata": {
    "execution": {
     "iopub.execute_input": "2020-06-30T11:31:47.182552Z",
     "iopub.status.busy": "2020-06-30T11:31:47.182151Z",
     "iopub.status.idle": "2020-06-30T11:31:47.451214Z",
     "shell.execute_reply": "2020-06-30T11:31:47.450570Z",
     "shell.execute_reply.started": "2020-06-30T11:31:47.182508Z"
    }
   },
   "outputs": [
    {
     "data": {
      "image/png": "[encoded data removed]",
      "text/plain": [
       "<Figure size 720x720 with 2 Axes>"
      ]
     },
     "metadata": {},
     "output_type": "display_data"
    }
   ],
   "source": [
    "# again ignore the other label\n",
    "start_id = 0\n",
    "# show the heatmap of the coocurrence matrix\n",
    "heatmap(merged_count[start_id:,start_id:], x_tick_labels=labels[start_id:], y_tick_labels=labels[start_id:])"
   ]
  },
  {
   "cell_type": "markdown",
   "metadata": {},
   "source": [
    "#### Statistics"
   ]
  },
  {
   "cell_type": "code",
   "execution_count": 197,
   "metadata": {
    "execution": {
     "iopub.execute_input": "2020-06-30T11:28:05.242926Z",
     "iopub.status.busy": "2020-06-30T11:28:05.242476Z",
     "iopub.status.idle": "2020-06-30T11:28:05.250290Z",
     "shell.execute_reply": "2020-06-30T11:28:05.249244Z",
     "shell.execute_reply.started": "2020-06-30T11:28:05.242876Z"
    }
   },
   "outputs": [
    {
     "name": "stdout",
     "output_type": "stream",
     "text": [
      "Accuracy (all predictions): 0.7718985929993136\n"
     ]
    }
   ],
   "source": [
    "# accuracy over all predictions\n",
    "tp = merged_count.diagonal().sum()\n",
    "all = np.sum(merged_count)\n",
    "print(\"Accuracy (all predictions):\", tp / all)"
   ]
  },
  {
   "cell_type": "code",
   "execution_count": 201,
   "metadata": {
    "execution": {
     "iopub.execute_input": "2020-06-30T11:31:59.726121Z",
     "iopub.status.busy": "2020-06-30T11:31:59.725674Z",
     "iopub.status.idle": "2020-06-30T11:31:59.737713Z",
     "shell.execute_reply": "2020-06-30T11:31:59.737222Z",
     "shell.execute_reply.started": "2020-06-30T11:31:59.726070Z"
    }
   },
   "outputs": [
    {
     "name": "stdout",
     "output_type": "stream",
     "text": [
      "OTHER\n",
      "------------------------------\n",
      "Precision: 0.8342116877385186\n",
      "Recall   : 0.9061504187699162\n",
      "F1       : 0.8686942416869424\n",
      "\n",
      "\n",
      "ORGANIZATION\n",
      "------------------------------\n",
      "Precision: 0.5838011226944667\n",
      "Recall   : 0.37847673511827395\n",
      "F1       : 0.4592335593754928\n",
      "\n",
      "\n",
      "MISCELLANEOUS\n",
      "------------------------------\n",
      "Precision: 0.25901639344262295\n",
      "Recall   : 0.19865884325230512\n",
      "F1       : 0.2248576850094877\n",
      "\n",
      "\n",
      "LOCATION\n",
      "------------------------------\n",
      "Precision: 0.3492723492723493\n",
      "Recall   : 0.3323442136498516\n",
      "F1       : 0.34059807399898634\n",
      "\n",
      "\n",
      "PERSON\n",
      "------------------------------\n",
      "Precision: 0.5378787878787878\n",
      "Recall   : 0.3635698610095099\n",
      "F1       : 0.43387167175905716\n",
      "\n",
      "\n"
     ]
    }
   ],
   "source": [
    "# precision\n",
    "start_id = 0\n",
    "\n",
    "for i, label in enumerate(labels[start_id:]):\n",
    "    row = merged_count[start_id:, start_id:][i]\n",
    "    col = merged_count[start_id:, start_id:][:, i]\n",
    "    \n",
    "    prec = row[i] / np.sum(row)\n",
    "    recl = col[i] / np.sum(col)\n",
    "    f1 = 2 * (prec * recl) / (prec + recl)\n",
    "    \n",
    "    print(label)\n",
    "    print(\"------------------------------\")\n",
    "    print(\"Precision: {}\".format(prec))\n",
    "    print(\"Recall   : {}\".format(recl))\n",
    "    print(\"F1       : {}\".format(f1))\n",
    "    print(\"\\n\")    "
   ]
  },
  {
   "cell_type": "markdown",
   "metadata": {},
   "source": [
    "## Using the Model on a sentence in different language"
   ]
  },
  {
   "cell_type": "code",
   "execution_count": 94,
   "metadata": {
    "execution": {
     "iopub.execute_input": "2020-06-30T09:20:13.288264Z",
     "iopub.status.busy": "2020-06-30T09:20:13.287815Z",
     "iopub.status.idle": "2020-06-30T09:20:13.295761Z",
     "shell.execute_reply": "2020-06-30T09:20:13.294707Z",
     "shell.execute_reply.started": "2020-06-30T09:20:13.288215Z"
    }
   },
   "outputs": [],
   "source": [
    "# NOTE: before using the model, one must first put it into evaluation mode\n",
    "# to turn off the Dropout component used during training\n",
    "ner = ner.eval()"
   ]
  },
  {
   "cell_type": "code",
   "execution_count": 95,
   "metadata": {
    "execution": {
     "iopub.execute_input": "2020-06-30T09:20:14.310994Z",
     "iopub.status.busy": "2020-06-30T09:20:14.310551Z",
     "iopub.status.idle": "2020-06-30T09:20:14.318257Z",
     "shell.execute_reply": "2020-06-30T09:20:14.317341Z",
     "shell.execute_reply.started": "2020-06-30T09:20:14.310946Z"
    }
   },
   "outputs": [],
   "source": [
    "# generate the tokens and attention mask tensors on the given text\n",
    "text = \"Erik Novak je raziskovalec na Inštitutu Jožef Stefan v Ljubljani, Sloveniji.\"\n",
    "# NOTE: here we use the `tokenization` function (different from the function used durring training)\n",
    "tokens_tensor, attention_mask_tensor  = ner.tokenization(text)"
   ]
  },
  {
   "cell_type": "code",
   "execution_count": 97,
   "metadata": {
    "execution": {
     "iopub.execute_input": "2020-06-30T09:20:58.090087Z",
     "iopub.status.busy": "2020-06-30T09:20:58.089697Z",
     "iopub.status.idle": "2020-06-30T09:20:58.138652Z",
     "shell.execute_reply": "2020-06-30T09:20:58.137815Z",
     "shell.execute_reply.started": "2020-06-30T09:20:58.090045Z"
    }
   },
   "outputs": [],
   "source": [
    "# move the tensors to the device\n",
    "tokens_tensor = tokens_tensor.to(device)\n",
    "attention_mask_tensor = attention_mask_tensor.to(device)\n",
    "# do not calculate the gradients (to reduce the model size)\n",
    "with torch.no_grad():\n",
    "    # get the model predictions\n",
    "    (loss, scores, ent, tokens, labels) = ner(tokens_tensor, attention_mask_tensor)"
   ]
  },
  {
   "cell_type": "code",
   "execution_count": 98,
   "metadata": {
    "execution": {
     "iopub.execute_input": "2020-06-30T09:20:59.237357Z",
     "iopub.status.busy": "2020-06-30T09:20:59.236985Z",
     "iopub.status.idle": "2020-06-30T09:20:59.243870Z",
     "shell.execute_reply": "2020-06-30T09:20:59.243088Z",
     "shell.execute_reply.started": "2020-06-30T09:20:59.237317Z"
    }
   },
   "outputs": [
    {
     "data": {
      "text/plain": [
       "[('Erik', 'B-PER'),\n",
       " ('Novak', 'I-PER'),\n",
       " ('je', 'O'),\n",
       " ('raziskovalec', 'O'),\n",
       " ('na', 'O'),\n",
       " ('Inštitutu', 'B-ORG'),\n",
       " ('Jožef', 'I-ORG'),\n",
       " ('Stefan', 'I-ORG'),\n",
       " ('v', 'O'),\n",
       " ('Ljubljani', 'B-LOC'),\n",
       " (',', 'O'),\n",
       " ('Sloveniji', 'B-LOC'),\n",
       " ('.', 'O')]"
      ]
     },
     "execution_count": 98,
     "metadata": {},
     "output_type": "execute_result"
    }
   ],
   "source": [
    "# output the entity tokens and tags\n",
    "ent"
   ]
  },
  {
   "cell_type": "markdown",
   "metadata": {},
   "source": [
    "## Save the Model"
   ]
  },
  {
   "cell_type": "code",
   "execution_count": 101,
   "metadata": {
    "execution": {
     "iopub.execute_input": "2020-06-30T09:21:24.740978Z",
     "iopub.status.busy": "2020-06-30T09:21:24.740486Z",
     "iopub.status.idle": "2020-06-30T09:21:24.745362Z",
     "shell.execute_reply": "2020-06-30T09:21:24.744436Z",
     "shell.execute_reply.started": "2020-06-30T09:21:24.740931Z"
    }
   },
   "outputs": [],
   "source": [
    "# set the model store path\n",
    "model_path = \"../data/models/xlm_roberta_ner_conell_2003.pth\""
   ]
  },
  {
   "cell_type": "code",
   "execution_count": 116,
   "metadata": {
    "execution": {
     "iopub.execute_input": "2020-06-30T09:25:12.493447Z",
     "iopub.status.busy": "2020-06-30T09:25:12.492964Z",
     "iopub.status.idle": "2020-06-30T09:25:27.705028Z",
     "shell.execute_reply": "2020-06-30T09:25:27.704110Z",
     "shell.execute_reply.started": "2020-06-30T09:25:12.493396Z"
    }
   },
   "outputs": [],
   "source": [
    "# the model is saved using the pytorch library\n",
    "torch.save({\n",
    "    'entities': ner.to(\"cpu\").entities,\n",
    "    'model_state_dict': ner.to(\"cpu\").state_dict()\n",
    "}, model_path)"
   ]
  },
  {
   "cell_type": "markdown",
   "metadata": {},
   "source": [
    "## Load the Model"
   ]
  },
  {
   "cell_type": "code",
   "execution_count": 117,
   "metadata": {
    "execution": {
     "iopub.execute_input": "2020-06-30T09:25:29.543069Z",
     "iopub.status.busy": "2020-06-30T09:25:29.542664Z",
     "iopub.status.idle": "2020-06-30T09:25:30.330790Z",
     "shell.execute_reply": "2020-06-30T09:25:30.330049Z",
     "shell.execute_reply.started": "2020-06-30T09:25:29.543024Z"
    }
   },
   "outputs": [],
   "source": [
    "# get the model parameters\n",
    "model_parameters = torch.load(model_path)"
   ]
  },
  {
   "cell_type": "code",
   "execution_count": 119,
   "metadata": {
    "execution": {
     "iopub.execute_input": "2020-06-30T09:25:42.610431Z",
     "iopub.status.busy": "2020-06-30T09:25:42.610017Z",
     "iopub.status.idle": "2020-06-30T09:26:04.636793Z",
     "shell.execute_reply": "2020-06-30T09:26:04.635401Z",
     "shell.execute_reply.started": "2020-06-30T09:25:42.610388Z"
    }
   },
   "outputs": [],
   "source": [
    "# first initialize the model (similarly as before training)\n",
    "config = {\n",
    "    \"entities\": model_parameters[\"entities\"]\n",
    "}\n",
    "ner2 = XLMRobertaNER(config)"
   ]
  },
  {
   "cell_type": "code",
   "execution_count": 120,
   "metadata": {
    "execution": {
     "iopub.execute_input": "2020-06-30T09:26:04.639226Z",
     "iopub.status.busy": "2020-06-30T09:26:04.638988Z",
     "iopub.status.idle": "2020-06-30T09:26:05.036057Z",
     "shell.execute_reply": "2020-06-30T09:26:05.035258Z",
     "shell.execute_reply.started": "2020-06-30T09:26:04.639195Z"
    }
   },
   "outputs": [
    {
     "data": {
      "text/plain": [
       "<All keys matched successfully>"
      ]
     },
     "execution_count": 120,
     "metadata": {},
     "output_type": "execute_result"
    }
   ],
   "source": [
    "# then load the model parameters\n",
    "ner2.load_state_dict(model_parameters['model_state_dict'])"
   ]
  },
  {
   "cell_type": "code",
   "execution_count": 121,
   "metadata": {
    "execution": {
     "iopub.execute_input": "2020-06-30T09:26:05.038362Z",
     "iopub.status.busy": "2020-06-30T09:26:05.037919Z",
     "iopub.status.idle": "2020-06-30T09:26:05.043903Z",
     "shell.execute_reply": "2020-06-30T09:26:05.043190Z",
     "shell.execute_reply.started": "2020-06-30T09:26:05.038321Z"
    }
   },
   "outputs": [],
   "source": [
    "# NOTE: before using the model, one must first put it into evaluation mode\n",
    "# to turn off the Dropout component used during training\n",
    "ner2 = ner2.eval()"
   ]
  },
  {
   "cell_type": "code",
   "execution_count": 122,
   "metadata": {
    "execution": {
     "iopub.execute_input": "2020-06-30T09:26:05.045563Z",
     "iopub.status.busy": "2020-06-30T09:26:05.045113Z",
     "iopub.status.idle": "2020-06-30T09:26:05.186696Z",
     "shell.execute_reply": "2020-06-30T09:26:05.185777Z",
     "shell.execute_reply.started": "2020-06-30T09:26:05.045526Z"
    }
   },
   "outputs": [],
   "source": [
    "# generate the tokens and attention mask tensors on the given text\n",
    "text = \"Erik Novak je raziskovalec na Inštitutu Jožef Stefan v Ljubljani, Sloveniji.\"\n",
    "# NOTE: here we use the `tokenization` function (different from the function used durring training)\n",
    "tokens_tensor, attention_mask_tensor  = ner2.tokenization(text)"
   ]
  },
  {
   "cell_type": "code",
   "execution_count": 123,
   "metadata": {
    "execution": {
     "iopub.execute_input": "2020-06-30T09:26:05.188388Z",
     "iopub.status.busy": "2020-06-30T09:26:05.188100Z",
     "iopub.status.idle": "2020-06-30T09:26:05.434956Z",
     "shell.execute_reply": "2020-06-30T09:26:05.434027Z",
     "shell.execute_reply.started": "2020-06-30T09:26:05.188350Z"
    }
   },
   "outputs": [],
   "source": [
    "# do not calculate the gradients (to reduce the model size)\n",
    "with torch.no_grad():\n",
    "    # get the model predictions\n",
    "    (loss, scores, ent, tokens, labels) = ner2(tokens_tensor, attention_mask_tensor)"
   ]
  },
  {
   "cell_type": "code",
   "execution_count": 124,
   "metadata": {
    "execution": {
     "iopub.execute_input": "2020-06-30T09:26:05.436654Z",
     "iopub.status.busy": "2020-06-30T09:26:05.436362Z",
     "iopub.status.idle": "2020-06-30T09:26:05.443016Z",
     "shell.execute_reply": "2020-06-30T09:26:05.442245Z",
     "shell.execute_reply.started": "2020-06-30T09:26:05.436615Z"
    }
   },
   "outputs": [
    {
     "data": {
      "text/plain": [
       "[('Erik', 'B-PER'),\n",
       " ('Novak', 'I-PER'),\n",
       " ('je', 'O'),\n",
       " ('raziskovalec', 'O'),\n",
       " ('na', 'O'),\n",
       " ('Inštitutu', 'B-ORG'),\n",
       " ('Jožef', 'I-ORG'),\n",
       " ('Stefan', 'I-ORG'),\n",
       " ('v', 'O'),\n",
       " ('Ljubljani', 'B-LOC'),\n",
       " (',', 'O'),\n",
       " ('Sloveniji', 'B-LOC'),\n",
       " ('.', 'O')]"
      ]
     },
     "execution_count": 124,
     "metadata": {},
     "output_type": "execute_result"
    }
   ],
   "source": [
    "# output the entity tokens and tags\n",
    "ent"
   ]
  },
  {
   "cell_type": "code",
   "execution_count": null,
   "metadata": {},
   "outputs": [],
   "source": []
  }
 ],
 "metadata": {
  "kernelspec": {
   "display_name": "Python 3",
   "language": "python",
   "name": "python3"
  },
  "language_info": {
   "codemirror_mode": {
    "name": "ipython",
    "version": 3
   },
   "file_extension": ".py",
   "mimetype": "text/x-python",
   "name": "python",
   "nbconvert_exporter": "python",
   "pygments_lexer": "ipython3",
   "version": "3.8.2"
  }
 },
 "nbformat": 4,
 "nbformat_minor": 4
}